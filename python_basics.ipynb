{
 "cells": [
  {
   "cell_type": "code",
   "execution_count": 4,
   "id": "f9dec31b-1e87-48b8-a53b-cdbf5cab4f99",
   "metadata": {},
   "outputs": [
    {
     "data": {
      "text/plain": [
       "bool"
      ]
     },
     "execution_count": 4,
     "metadata": {},
     "output_type": "execute_result"
    }
   ],
   "source": [
    "type(True)"
   ]
  },
  {
   "cell_type": "code",
   "execution_count": 20,
   "id": "da4936ad-6f78-4d77-8937-ae1b065285df",
   "metadata": {},
   "outputs": [
    {
     "data": {
      "text/plain": [
       "False"
      ]
     },
     "execution_count": 20,
     "metadata": {},
     "output_type": "execute_result"
    }
   ],
   "source": [
    "bool()"
   ]
  },
  {
   "cell_type": "code",
   "execution_count": 6,
   "id": "c841f531-e42c-4efe-a772-38c8a04f3f1d",
   "metadata": {},
   "outputs": [
    {
     "name": "stdout",
     "output_type": "stream",
     "text": [
      "True\n",
      "True\n",
      "False\n",
      "True\n",
      "True\n",
      "True\n"
     ]
    }
   ],
   "source": [
    "name=\"Siddharthmalhotra\"\n",
    "print(name.isalnum()) # alphanumeric means either letters or numbers\n",
    "print(name.isalpha()) # all character should be alphabet\n",
    "print(name.isdigit()) # all characters should be digits\n",
    "print(name.istitle()) # title means if the first letter contains capital letter , \n",
    "#it will check only alphabet ignores numbers if any other letter has capital letter then print false \n",
    "\n",
    "#important \n",
    "\n",
    "print(name.endswith('a'))\n",
    "print(name.startswith(\"S\")) #case sensitive "
   ]
  },
  {
   "cell_type": "code",
   "execution_count": 7,
   "id": "a8602840-c8a7-4847-88f3-21800dfa7f66",
   "metadata": {},
   "outputs": [
    {
     "name": "stdout",
     "output_type": "stream",
     "text": [
      "False\n",
      "False\n",
      "False\n",
      "True\n"
     ]
    }
   ],
   "source": [
    "name1=\"123Siddharth 123\"\n",
    "print(name1.isalnum()) #since space is not alphanumeric\n",
    "print(name1.isalpha())\n",
    "print(name1.isdigit())\n",
    "print(name1.istitle()) \n"
   ]
  },
  {
   "cell_type": "code",
   "execution_count": 8,
   "id": "a4d361b0-4902-400f-971b-f941a71dd819",
   "metadata": {},
   "outputs": [
    {
     "name": "stdout",
     "output_type": "stream",
     "text": [
      "True\n",
      "False\n",
      "False\n",
      "False\n",
      "True\n"
     ]
    }
   ],
   "source": [
    "name2 = \"siddharth123\"\n",
    "print(name2.isalnum())\n",
    "print(name2.isalpha())\n",
    "print(name2.isdigit())\n",
    "print(name1.endswith('h')) \n",
    "print(name1.endswith('3'))"
   ]
  },
  {
   "cell_type": "code",
   "execution_count": 9,
   "id": "3a5df498-d24d-44fb-95af-5ccc76cb1bf4",
   "metadata": {},
   "outputs": [
    {
     "name": "stdout",
     "output_type": "stream",
     "text": [
      "True\n",
      "False\n",
      "True\n"
     ]
    }
   ],
   "source": [
    "name3 = \"123456\"\n",
    "print(name3.isalnum())\n",
    "print(name3.isalpha())\n",
    "print(name3.isdigit())"
   ]
  },
  {
   "cell_type": "code",
   "execution_count": 10,
   "id": "6c9d8179-e94a-45f6-9b3f-9ca35c3c5f74",
   "metadata": {},
   "outputs": [],
   "source": [
    "# List \n",
    "# list is a data structure in python , its mutable , changeable ,ordered sequence of elements. inside list called item, use of []"
   ]
  },
  {
   "cell_type": "code",
   "execution_count": 17,
   "id": "c6fb014e-e758-4e28-b271-1b2527b02827",
   "metadata": {},
   "outputs": [
    {
     "data": {
      "text/plain": [
       "list"
      ]
     },
     "execution_count": 17,
     "metadata": {},
     "output_type": "execute_result"
    }
   ],
   "source": [
    "lst_example = [1,2,3]\n",
    "type(lst_example)"
   ]
  },
  {
   "cell_type": "code",
   "execution_count": 22,
   "id": "c02d9d67-f5b2-4673-b096-68f634d804ae",
   "metadata": {},
   "outputs": [
    {
     "name": "stdout",
     "output_type": "stream",
     "text": [
      "[]\n"
     ]
    }
   ],
   "source": [
    "#creation of the empty list \n",
    "lst=list()\n",
    "print(lst)"
   ]
  },
  {
   "cell_type": "code",
   "execution_count": 24,
   "id": "24f89b1a-42ed-4bd0-a12e-702a1cc745a3",
   "metadata": {},
   "outputs": [
    {
     "name": "stdout",
     "output_type": "stream",
     "text": [
      "['Mathematics', 'science', 1, 2, 3]\n"
     ]
    }
   ],
   "source": [
    "#creation of the list \n",
    "lst=['Mathematics', \"science\",1,2,3]\n",
    "print(lst)"
   ]
  },
  {
   "cell_type": "code",
   "execution_count": 31,
   "id": "aa7ae470-dc23-4b43-9a0a-3c8580f06224",
   "metadata": {},
   "outputs": [
    {
     "name": "stdout",
     "output_type": "stream",
     "text": [
      "['Mathematics', 'science', 'Krishna', 'Krishna', 1, 2, 3, 'siddharth', 'siddharth', 'siddharth', 'siddharth', 'siddharth']\n",
      "Krishna\n"
     ]
    }
   ],
   "source": [
    "#append --> add element in the end of the list\n",
    "lst.append(\"siddharth\")\n",
    "print(lst)\n",
    "print(lst[2])\n"
   ]
  },
  {
   "cell_type": "code",
   "execution_count": 32,
   "id": "6e0ed23a-ecf0-43d7-92b3-4621eced0682",
   "metadata": {},
   "outputs": [
    {
     "name": "stdout",
     "output_type": "stream",
     "text": [
      "['Mathematics', 'science', 'Krishna', 'Krishna', 'Krishna', 1, 2, 3, 'siddharth', 'siddharth', 'siddharth', 'siddharth', 'siddharth']\n"
     ]
    }
   ],
   "source": [
    "#insert--->add elements in any order\n",
    "lst.insert(2,'Krishna') #2nd index mein krishna aajayega \n",
    "print(lst)"
   ]
  },
  {
   "cell_type": "code",
   "execution_count": 37,
   "id": "8bd49f3a-1f9a-4f76-ba73-065469eb3149",
   "metadata": {},
   "outputs": [
    {
     "name": "stdout",
     "output_type": "stream",
     "text": [
      "[1, 2, 3, 4, 5, 6, 7, 3, 4]\n"
     ]
    }
   ],
   "source": [
    "#extend method---> add multiple values in the last\n",
    "lst=[1,2,3,4,5,6,7]\n",
    "lst.extend([3,4])\n",
    "print(lst)"
   ]
  },
  {
   "cell_type": "code",
   "execution_count": 38,
   "id": "2bd97ea3-e0cd-4085-b8bd-0def6b52406d",
   "metadata": {},
   "outputs": [
    {
     "data": {
      "text/plain": [
       "35"
      ]
     },
     "execution_count": 38,
     "metadata": {},
     "output_type": "execute_result"
    }
   ],
   "source": [
    "#various operation can perform \n",
    "sum(lst) # error--> lst.sum()"
   ]
  },
  {
   "cell_type": "code",
   "execution_count": 39,
   "id": "5ee86459-83f0-42c6-af09-d55d18b56bb7",
   "metadata": {},
   "outputs": [
    {
     "data": {
      "text/plain": [
       "4"
      ]
     },
     "execution_count": 39,
     "metadata": {},
     "output_type": "execute_result"
    }
   ],
   "source": [
    "lst.pop()"
   ]
  },
  {
   "cell_type": "code",
   "execution_count": 40,
   "id": "5b4427e4-f368-487e-996a-2419ba213622",
   "metadata": {},
   "outputs": [
    {
     "name": "stdout",
     "output_type": "stream",
     "text": [
      "[1, 2, 3, 4, 5, 6, 7, 3]\n"
     ]
    }
   ],
   "source": [
    "print(lst)"
   ]
  },
  {
   "cell_type": "code",
   "execution_count": 42,
   "id": "317c67a7-81d2-49e8-8f39-c660c10c06a7",
   "metadata": {},
   "outputs": [
    {
     "data": {
      "text/plain": [
       "2"
      ]
     },
     "execution_count": 42,
     "metadata": {},
     "output_type": "execute_result"
    }
   ],
   "source": [
    "#count method \n",
    "lst=[1,1,2,11,3,4,4,5,6]\n",
    "lst.count(1) "
   ]
  },
  {
   "cell_type": "code",
   "execution_count": 43,
   "id": "d68ebf7f-2272-4f8c-87ab-bff48e9116cb",
   "metadata": {},
   "outputs": [
    {
     "data": {
      "text/plain": [
       "9"
      ]
     },
     "execution_count": 43,
     "metadata": {},
     "output_type": "execute_result"
    }
   ],
   "source": [
    "len(lst)  #count the number of element in the list"
   ]
  },
  {
   "cell_type": "code",
   "execution_count": 44,
   "id": "7c1fbbfe-3f3d-4d4b-b9c7-2905ac2cb009",
   "metadata": {},
   "outputs": [
    {
     "data": {
      "text/plain": [
       "0"
      ]
     },
     "execution_count": 44,
     "metadata": {},
     "output_type": "execute_result"
    }
   ],
   "source": [
    "#index ---> print the index of that particular element presence.start and end paramters are not necessary\n",
    "lst.index(1)"
   ]
  },
  {
   "cell_type": "code",
   "execution_count": 46,
   "id": "371033c5-9864-4d95-9803-d3d3b1fdba80",
   "metadata": {},
   "outputs": [
    {
     "data": {
      "text/plain": [
       "1"
      ]
     },
     "execution_count": 46,
     "metadata": {},
     "output_type": "execute_result"
    }
   ],
   "source": [
    "lst.index(1,1,4)   # iska mtlb ki 1 konsa index mein present hai starting from 1st index and end with 4th index"
   ]
  },
  {
   "cell_type": "code",
   "execution_count": null,
   "id": "b5c2dee4-2008-4a12-b2eb-4f4726c40480",
   "metadata": {},
   "outputs": [],
   "source": []
  }
 ],
 "metadata": {
  "kernelspec": {
   "display_name": "cuda-gpt",
   "language": "python",
   "name": "cuda"
  },
  "language_info": {
   "codemirror_mode": {
    "name": "ipython",
    "version": 3
   },
   "file_extension": ".py",
   "mimetype": "text/x-python",
   "name": "python",
   "nbconvert_exporter": "python",
   "pygments_lexer": "ipython3",
   "version": "3.12.5"
  }
 },
 "nbformat": 4,
 "nbformat_minor": 5
}
