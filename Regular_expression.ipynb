{
 "cells": [
  {
   "cell_type": "code",
   "execution_count": 1,
   "id": "1f56b30a-3590-4676-ba7b-ce95391c3a23",
   "metadata": {},
   "outputs": [],
   "source": [
    "import re"
   ]
  },
  {
   "cell_type": "code",
   "execution_count": 9,
   "id": "97d5d7fd-8f8e-43f2-b72f-99891855ab1e",
   "metadata": {},
   "outputs": [],
   "source": [
    "text=\"my name is siddharth and this is my phone number +919999988888. I have cleared jee advance 2022. i have fide chess rating 1487.my friend's phone number is +916200000000.\""
   ]
  },
  {
   "cell_type": "code",
   "execution_count": 10,
   "id": "06efe2a9-fe19-4a14-a6d8-4edb7de140ab",
   "metadata": {},
   "outputs": [],
   "source": [
    "pattern = '\\\\d{10}'"
   ]
  },
  {
   "cell_type": "code",
   "execution_count": 11,
   "id": "9e99ede3-7d78-44f7-968f-b257551e386c",
   "metadata": {},
   "outputs": [
    {
     "data": {
      "text/plain": [
       "['9199999888', '9162000000']"
      ]
     },
     "execution_count": 11,
     "metadata": {},
     "output_type": "execute_result"
    }
   ],
   "source": [
    "matches = re.findall(pattern,text)\n",
    "matches"
   ]
  },
  {
   "cell_type": "code",
   "execution_count": 18,
   "id": "65b891c6-053b-4c55-95e9-4f7cf4fe4969",
   "metadata": {},
   "outputs": [
    {
     "data": {
      "text/plain": [
       "<re.Match object; span=(50, 51), match='9'>"
      ]
     },
     "execution_count": 18,
     "metadata": {},
     "output_type": "execute_result"
    }
   ],
   "source": [
    "pattern1='\\\\d'\n",
    "matches = re.search(pattern1,text)\n",
    "matches"
   ]
  },
  {
   "cell_type": "code",
   "execution_count": null,
   "id": "6e79e81a-2490-40a4-a809-3143c408dc9b",
   "metadata": {},
   "outputs": [],
   "source": []
  }
 ],
 "metadata": {
  "kernelspec": {
   "display_name": "Python 3 (ipykernel)",
   "language": "python",
   "name": "python3"
  },
  "language_info": {
   "codemirror_mode": {
    "name": "ipython",
    "version": 3
   },
   "file_extension": ".py",
   "mimetype": "text/x-python",
   "name": "python",
   "nbconvert_exporter": "python",
   "pygments_lexer": "ipython3",
   "version": "3.12.0"
  }
 },
 "nbformat": 4,
 "nbformat_minor": 5
}
